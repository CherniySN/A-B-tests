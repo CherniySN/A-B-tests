{
 "cells": [
  {
   "cell_type": "code",
   "execution_count": 1,
   "id": "9038128c",
   "metadata": {},
   "outputs": [],
   "source": [
    "import numpy as np"
   ]
  },
  {
   "cell_type": "code",
   "execution_count": 4,
   "id": "bce1311c",
   "metadata": {},
   "outputs": [],
   "source": [
    "users = np.array([1, 1, 1, 1, 1, 0, 1, 0 ,0 ,0 ,1 ,0])"
   ]
  },
  {
   "cell_type": "code",
   "execution_count": 5,
   "id": "f4d8cd7d",
   "metadata": {},
   "outputs": [
    {
     "data": {
      "text/plain": [
       "12"
      ]
     },
     "execution_count": 5,
     "metadata": {},
     "output_type": "execute_result"
    }
   ],
   "source": [
    "n = users.size\n",
    "n"
   ]
  },
  {
   "cell_type": "code",
   "execution_count": 7,
   "id": "a63ef0f4",
   "metadata": {},
   "outputs": [
    {
     "data": {
      "text/plain": [
       "0.5833333333333334"
      ]
     },
     "execution_count": 7,
     "metadata": {},
     "output_type": "execute_result"
    }
   ],
   "source": [
    "p = users.sum() / n\n",
    "p"
   ]
  },
  {
   "cell_type": "code",
   "execution_count": 8,
   "id": "53f7223e",
   "metadata": {},
   "outputs": [
    {
     "data": {
      "text/plain": [
       "0.14231876063832777"
      ]
     },
     "execution_count": 8,
     "metadata": {},
     "output_type": "execute_result"
    }
   ],
   "source": [
    "se = np.sqrt(p * (1-p)/n)\n",
    "se"
   ]
  },
  {
   "cell_type": "code",
   "execution_count": 9,
   "id": "a02f4c91",
   "metadata": {},
   "outputs": [],
   "source": [
    "import scipy.stats as st"
   ]
  },
  {
   "cell_type": "code",
   "execution_count": 11,
   "id": "c01465d0",
   "metadata": {},
   "outputs": [
    {
     "data": {
      "text/plain": [
       "(0.3043936881578343, 0.8622729785088324)"
      ]
     },
     "execution_count": 11,
     "metadata": {},
     "output_type": "execute_result"
    }
   ],
   "source": [
    "st.norm.interval(0.95, loc = p, scale = se)"
   ]
  },
  {
   "cell_type": "markdown",
   "id": "836059ba",
   "metadata": {},
   "source": [
    "# Доверительный интервал для среднего"
   ]
  },
  {
   "cell_type": "code",
   "execution_count": 12,
   "id": "45c440f6",
   "metadata": {},
   "outputs": [],
   "source": [
    "import statsmodels.stats.api as stm"
   ]
  },
  {
   "cell_type": "code",
   "execution_count": 13,
   "id": "89025674",
   "metadata": {},
   "outputs": [],
   "source": [
    "ages = np.array([23,45,23,67,44,23,56,34,65,23,56,87])"
   ]
  },
  {
   "cell_type": "code",
   "execution_count": 16,
   "id": "9dc1e708",
   "metadata": {},
   "outputs": [
    {
     "data": {
      "text/plain": [
       "(32.02858247081964, 58.97141752918036)"
      ]
     },
     "execution_count": 16,
     "metadata": {},
     "output_type": "execute_result"
    }
   ],
   "source": [
    "stm.DescrStatsW(ages).tconfint_mean()"
   ]
  },
  {
   "cell_type": "code",
   "execution_count": null,
   "id": "550d1bf6",
   "metadata": {},
   "outputs": [],
   "source": []
  }
 ],
 "metadata": {
  "kernelspec": {
   "display_name": "Python 3 (ipykernel)",
   "language": "python",
   "name": "python3"
  },
  "language_info": {
   "codemirror_mode": {
    "name": "ipython",
    "version": 3
   },
   "file_extension": ".py",
   "mimetype": "text/x-python",
   "name": "python",
   "nbconvert_exporter": "python",
   "pygments_lexer": "ipython3",
   "version": "3.10.9"
  }
 },
 "nbformat": 4,
 "nbformat_minor": 5
}
