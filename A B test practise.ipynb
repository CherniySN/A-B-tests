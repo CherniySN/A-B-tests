{
 "cells": [
  {
   "cell_type": "markdown",
   "id": "011ca404",
   "metadata": {},
   "source": [
    "# Практическое задание по определению обьема выборки для тестирования.\n"
   ]
  },
  {
   "cell_type": "markdown",
   "id": "a04c28cc",
   "metadata": {},
   "source": [
    "Для маркетингового исследования случайным образом необходимо отобрать N людей. Этим людям\n",
    "далее демонстрируется шоколад марки «Алёнка» в упаковке с новым дизайном: вместо цветной обертки\n",
    "– обертка в бежево-коричневых тонах, с эффектом «под старину» для усиления ностальгии, с одной\n",
    "стороны, и для привлечения новой аудитории, кто не сразу узнает классическую «Алёнку», с другой\n",
    "стороны. После этого фиксируется, сколько людей захотели купить этот шоколад, а точнее, доля таких\n",
    "людей. Группа экспертов ожидает, что, в целом, 70% людей захотят купить этот шоколад.\n",
    "Определите необходимый размер выборки N, считая, что мы принимаем уровень доверия равный 90%\n",
    "и хотим получать погрешность не более 2%."
   ]
  },
  {
   "cell_type": "markdown",
   "id": "a917175d",
   "metadata": {},
   "source": [
    "#### Подсказка: \n",
    "значение z для уровня доверия 0.9 примерно равно 1.65."
   ]
  },
  {
   "cell_type": "markdown",
   "id": "3e895fe4",
   "metadata": {},
   "source": [
    "p = 0,70\n",
    "\n",
    "z = 1,65\n",
    "\n",
    "error = 0,03"
   ]
  },
  {
   "cell_type": "markdown",
   "id": "e98184f9",
   "metadata": {},
   "source": [
    "Теперь подставим в формулу для получения обьема выборки:"
   ]
  },
  {
   "cell_type": "code",
   "execution_count": 1,
   "id": "5f6ba146",
   "metadata": {},
   "outputs": [],
   "source": [
    "from sympy import *"
   ]
  },
  {
   "cell_type": "code",
   "execution_count": 6,
   "id": "20a8b2bd",
   "metadata": {},
   "outputs": [],
   "source": [
    "p, z, error = symbols(\"p z error\")"
   ]
  },
  {
   "cell_type": "markdown",
   "id": "5a28cc0a",
   "metadata": {},
   "source": [
    "$$\n",
    "n = \\frac{z^{2}\\times p\\times (1 -p)}{error^{2}}\n",
    "$$"
   ]
  },
  {
   "cell_type": "code",
   "execution_count": 7,
   "id": "dbab4006",
   "metadata": {},
   "outputs": [],
   "source": [
    "n = (z**2 * p * (1-p)) / (error**2)"
   ]
  },
  {
   "cell_type": "code",
   "execution_count": 10,
   "id": "88bd5767",
   "metadata": {},
   "outputs": [
    {
     "data": {
      "text/latex": [
       "$\\displaystyle 1429.3125$"
      ],
      "text/plain": [
       "1429.31250000000"
      ]
     },
     "execution_count": 10,
     "metadata": {},
     "output_type": "execute_result"
    }
   ],
   "source": [
    "n.subs([(p, 0.7), (z, 1.65), (error, 0.02)])"
   ]
  },
  {
   "cell_type": "markdown",
   "id": "fe54fe8f",
   "metadata": {},
   "source": [
    "### Размер выборки должен составлять 1430 человек."
   ]
  },
  {
   "cell_type": "markdown",
   "id": "91f3aa65",
   "metadata": {},
   "source": [
    "Для соблюдения баланса мы берем и тестовую и контрольную выборку одинакового обьема."
   ]
  },
  {
   "cell_type": "code",
   "execution_count": null,
   "id": "49d219ff",
   "metadata": {},
   "outputs": [],
   "source": []
  }
 ],
 "metadata": {
  "kernelspec": {
   "display_name": "Python 3 (ipykernel)",
   "language": "python",
   "name": "python3"
  },
  "language_info": {
   "codemirror_mode": {
    "name": "ipython",
    "version": 3
   },
   "file_extension": ".py",
   "mimetype": "text/x-python",
   "name": "python",
   "nbconvert_exporter": "python",
   "pygments_lexer": "ipython3",
   "version": "3.10.9"
  }
 },
 "nbformat": 4,
 "nbformat_minor": 5
}
